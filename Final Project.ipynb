{
 "cells": [
  {
   "cell_type": "markdown",
   "metadata": {},
   "source": [
    "# # Final Proejct: COVID-19 and ...\n",
    "\n",
    "**Collarborators**: Robin (Jae-Hee) Yoo, Judy Moon, Jae Hyun Kim"
   ]
  },
  {
   "cell_type": "markdown",
   "metadata": {},
   "source": [
    "## This Assignment\n",
    "In Final Project, we will \n",
    "\n"
   ]
  },
  {
   "cell_type": "code",
   "execution_count": 3,
   "metadata": {},
   "outputs": [],
   "source": [
    "import numpy as np\n",
    "import pandas as pd\n"
   ]
  },
  {
   "cell_type": "markdown",
   "metadata": {},
   "source": [
    "### Loading in the Data\n",
    "\n",
    "In COVID-19 data set, our goal is...\n",
    "\n",
    "The dataset consists of time series of ...\n",
    "\n",
    "Run the following cells to load in the data into DataFrames.\n",
    "\n",
    "The `abridged_couties` DataFrame contains labeled data that you will use to evaluate arbidged couties in US . It contains four columns:\n",
    "\n",
    "1. \n",
    "2. \n",
    "3. \n",
    "4. \n",
    "\n",
    "The `time_series_covid19_confirmed_US` DataFrame contains labeled data that you will use to evaluate the confirmed COVID-19 satus in US. It contains four columns:\n",
    "\n",
    "1. \n",
    "2. \n",
    "3. \n",
    "4. \n",
    "\n",
    "The `times_series_covid19_death` DataFrame contains labeled data that you will use to evaluate the death status in US. It contains four columns:\n",
    "\n",
    "1. \n",
    "2. \n",
    "3. \n",
    "4. \n",
    "\n",
    "The `4.18states` DataFrame contains labeled data that you will use to evaluate the status of US on 4/18. It contains four columns:\n",
    "\n",
    "1. \n",
    "2. \n",
    "3. \n",
    "4. "
   ]
  },
  {
   "cell_type": "code",
   "execution_count": 7,
   "metadata": {},
   "outputs": [],
   "source": [
    "abridged_couties = pd.read_csv('data/abridged_couties.csv')\n",
    "confirmed = pd.read_csv('data/time_series_covid19_confirmed_US.csv')\n",
    "death"
   ]
  },
  {
   "cell_type": "code",
   "execution_count": null,
   "metadata": {},
   "outputs": [],
   "source": []
  }
 ],
 "metadata": {
  "kernelspec": {
   "display_name": "Python 3",
   "language": "python",
   "name": "python3"
  },
  "language_info": {
   "codemirror_mode": {
    "name": "ipython",
    "version": 3
   },
   "file_extension": ".py",
   "mimetype": "text/x-python",
   "name": "python",
   "nbconvert_exporter": "python",
   "pygments_lexer": "ipython3",
   "version": "3.7.6"
  }
 },
 "nbformat": 4,
 "nbformat_minor": 4
}
